{
 "cells": [
  {
   "cell_type": "markdown",
   "id": "ff611223-1b32-4567-8abe-4b8afa83cd4e",
   "metadata": {
    "jp-MarkdownHeadingCollapsed": true,
    "tags": []
   },
   "source": [
    "# Q1. What is Flask Framework? What are the advantages of Flask Framework?"
   ]
  },
  {
   "cell_type": "markdown",
   "id": "71849e6e-7fbd-465b-b8db-93e2154bd026",
   "metadata": {
    "jp-MarkdownHeadingCollapsed": true,
    "tags": []
   },
   "source": [
    "# Flask is a web framework, it's a Python module that lets you develop web applications easily. it has a small and easy to extend core :\n",
    "\n",
    "# it is  a microframework that doesn't include an ORM (Object Relational Mannager) or such as feature.\n",
    "\n",
    "1. It is a lightweight framework  that offers hassel-free developement.\n",
    "2. Provide flexibility to the developr to experiment with their modules or Architecture.\n",
    "3. it is suitable foe small projects.\n",
    "4. Offers a built-in developement server and dast debugger.\n",
    "5. Easily scalable foe the applications.\n",
    "6. Support for secure cookies."
   ]
  },
  {
   "cell_type": "markdown",
   "id": "76c944ae-7f35-4f5d-8a33-33ea0380db41",
   "metadata": {},
   "source": [
    "# Q2. Create a simple Flask application to display ‘Hello World!!’. Attach the screenshot of the output in Jupyter Notebook."
   ]
  },
  {
   "cell_type": "code",
   "execution_count": null,
   "id": "3651ca6c-5979-46bf-83c3-636670d1d498",
   "metadata": {},
   "outputs": [],
   "source": [
    "from flask import Flask \n",
    "app = Flask(__name__)\n",
    "\n",
    "@app.route(\"/\")\n",
    "def Hello():\n",
    "    return \"<h1> Hello World!!<h1>\"\n",
    "if __name__ == \"__main__\":\n",
    "    app.run(host=\"0.0.0.0\")"
   ]
  },
  {
   "cell_type": "markdown",
   "id": "4e84fe88-ae99-4d78-9df0-e4e3eac9d888",
   "metadata": {},
   "source": [
    "# Q3. What is App routing in Flask? Why do we use app routes?\n",
    "\n",
    "# A3. App roulting refers to the process of mapping URLs to specific function or view handlers in your web application because App routing is the way to define the route of the application."
   ]
  },
  {
   "cell_type": "markdown",
   "id": "b05c92ae-3262-4e9f-b5c0-11a8f83befb4",
   "metadata": {},
   "source": [
    "# Q4.  Create a “/welcome” route to display the welcome message “Welcome to ABC Corporation” and a “/”\n",
    "# route to show the following details:\n",
    "\n",
    "   # Company Name: ABC Corporation\n",
    "\n",
    "   # Location: India\n",
    "\n",
    "   #  Contact Detail: 999-999-9999 "
   ]
  },
  {
   "cell_type": "code",
   "execution_count": 1,
   "id": "ae1909a7-0099-4c69-b9da-237135cf8144",
   "metadata": {},
   "outputs": [],
   "source": [
    "from flask import Flask \n",
    "app = Flask(__name__)\n",
    "\n",
    "@app.route(\"/company_details\")\n",
    "def company_details():\n",
    "    return \" <h1> Company Name: ABC Corporation</h1> <h1> Location: India </h1> <h1> Contact Detail: 999-999-9999 </h1> \"\n",
    "\n",
    "@app.route(\"/\")\n",
    "def welcome():\n",
    "    return \"<h1>Welcome to ABC Corporation <h1>\"\n",
    "if __name__ == \"__main__\":\n",
    "    app.run(host=\"0.0.0.0\")\n"
   ]
  },
  {
   "cell_type": "markdown",
   "id": "b6668bfb-c323-4216-9ebc-444a4541e455",
   "metadata": {},
   "source": [
    "Q5. What function is used in Flask for URL Building? Write a Python code to demonstrate the working of the url_for() function.\n",
    "\n",
    "answer : To build a URL to a specific function, use the url_for() function. It accepts the name of the function as its first argument and any number of keyword arguments, each corresponding to a variable part of the URL rule.\n",
    "\n"
   ]
  },
  {
   "cell_type": "code",
   "execution_count": null,
   "id": "d5882694-9ec1-4cb8-8884-2011fee6ba2d",
   "metadata": {},
   "outputs": [],
   "source": []
  },
  {
   "cell_type": "code",
   "execution_count": null,
   "id": "2b5a0230-7eb4-4037-b2ef-a2acc73d0e14",
   "metadata": {},
   "outputs": [],
   "source": []
  },
  {
   "cell_type": "code",
   "execution_count": null,
   "id": "4173bf5a-6c06-44ac-b549-72c1ccd84341",
   "metadata": {},
   "outputs": [],
   "source": []
  }
 ],
 "metadata": {
  "kernelspec": {
   "display_name": "Python 3 (ipykernel)",
   "language": "python",
   "name": "python3"
  },
  "language_info": {
   "codemirror_mode": {
    "name": "ipython",
    "version": 3
   },
   "file_extension": ".py",
   "mimetype": "text/x-python",
   "name": "python",
   "nbconvert_exporter": "python",
   "pygments_lexer": "ipython3",
   "version": "3.10.8"
  }
 },
 "nbformat": 4,
 "nbformat_minor": 5
}
